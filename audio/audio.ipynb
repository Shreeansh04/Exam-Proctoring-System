{
 "cells": [
  {
   "cell_type": "code",
   "execution_count": 1,
   "metadata": {
    "scrolled": true
   },
   "outputs": [],
   "source": [
    "import sounddevice as sd\n",
    "import numpy as np\n",
    "import pandas as pd\n",
    "import datetime as dt\n",
    "import os"
   ]
  },
  {
   "cell_type": "markdown",
   "metadata": {},
   "source": [
    "place holders and global variables"
   ]
  },
  {
   "cell_type": "code",
   "execution_count": 2,
   "metadata": {},
   "outputs": [],
   "source": [
    "SOUND_AMPLITUDE = 0\n",
    "AUDIO_CHEAT = 0"
   ]
  },
  {
   "cell_type": "markdown",
   "metadata": {},
   "source": [
    "sound variables<br>\n",
    "SUS means next sound packet is worth analyzing"
   ]
  },
  {
   "cell_type": "code",
   "execution_count": 3,
   "metadata": {},
   "outputs": [],
   "source": [
    "CALLBACKS_PER_SECOND = 38               # callbacks per sec(system dependent)\n",
    "SUS_FINDING_FREQUENCY = 2               # calculates SUS *n* times every sec\n",
    "SOUND_AMPLITUDE_THRESHOLD = 20          # amplitude considered for SUS calc "
   ]
  },
  {
   "cell_type": "markdown",
   "metadata": {},
   "source": [
    "packing *n* frames to calculate SUS"
   ]
  },
  {
   "cell_type": "code",
   "execution_count": 4,
   "metadata": {},
   "outputs": [],
   "source": [
    "FRAMES_COUNT = int(CALLBACKS_PER_SECOND/SUS_FINDING_FREQUENCY)\n",
    "AMPLITUDE_LIST = list([0]*FRAMES_COUNT)\n",
    "SUS_COUNT = 0\n",
    "count = 0"
   ]
  },
  {
   "cell_type": "code",
   "execution_count": 5,
   "metadata": {},
   "outputs": [],
   "source": [
    "# dataframe for logging AUDIO_CHEAT\n",
    "df = pd.DataFrame(columns=['Filename', 'Timestamp', 'AUDIO_CHEAT'])"
   ]
  },
  {
   "cell_type": "code",
   "execution_count": 6,
   "metadata": {},
   "outputs": [],
   "source": [
    "def sound(filename):\n",
    "    global AUDIO_CHEAT\n",
    "    with sd.InputStream(callback=lambda indata, outdata, frames, time, status: print_sound(indata, outdata, frames, time, status)):\n",
    "        sd.sleep(-1)"
   ]
  },
  {
   "cell_type": "code",
   "execution_count": 7,
   "metadata": {},
   "outputs": [],
   "source": [
    "def print_sound(indata, outdata, frames, time, status):\n",
    "    avg_amp = 0\n",
    "    global SOUND_AMPLITUDE, SUS_COUNT, count, SOUND_AMPLITUDE_THRESHOLD, AUDIO_CHEAT\n",
    "    vnorm = int(np.linalg.norm(indata)*10)\n",
    "    AMPLITUDE_LIST.append(vnorm)\n",
    "    count += 1\n",
    "    AMPLITUDE_LIST.pop(0)\n",
    "    if count == FRAMES_COUNT:\n",
    "        avg_amp = sum(AMPLITUDE_LIST)/FRAMES_COUNT\n",
    "        SOUND_AMPLITUDE = avg_amp\n",
    "        if SUS_COUNT >= 2:\n",
    "            #print(\"!!!!!!!!!!!! FBI OPEN UP !!!!!!!!!!!!\")\n",
    "            AUDIO_CHEAT = 1\n",
    "            SUS_COUNT = 0\n",
    "        if avg_amp > SOUND_AMPLITUDE_THRESHOLD:\n",
    "            SUS_COUNT += 1\n",
    "            #print(\"Sus...\", SUS_COUNT)\n",
    "        else:\n",
    "            SUS_COUNT = 0\n",
    "            AUDIO_CHEAT = 0\n",
    "        count = 0"
   ]
  },
  {
   "cell_type": "code",
   "execution_count": null,
   "metadata": {},
   "outputs": [],
   "source": []
  },
  {
   "cell_type": "code",
   "execution_count": 8,
   "metadata": {},
   "outputs": [],
   "source": [
    "def sound_analysis():\n",
    "    global AMPLITUDE_LIST, FRAMES_COUNT, SOUND_AMPLITUDE\n",
    "    while True:\n",
    "        AMPLITUDE_LIST.append(SOUND_AMPLITUDE)\n",
    "        AMPLITUDE_LIST.pop(0)\n",
    "        avg_amp = sum(AMPLITUDE_LIST)/FRAMES_COUNT\n",
    "        if avg_amp > 10:\n",
    "            print(\"Sus...\")"
   ]
  },
  {
   "cell_type": "code",
   "execution_count": null,
   "metadata": {},
   "outputs": [
    {
     "name": "stderr",
     "output_type": "stream",
     "text": [
      "Exception ignored from cffi callback <function _StreamBase.__init__.<locals>.callback_ptr at 0x0000022396EB8EA0>:\n",
      "Traceback (most recent call last):\n",
      "  File \"C:\\Users\\user\\AppData\\Local\\Programs\\Python\\Python311\\Lib\\site-packages\\sounddevice.py\", line 846, in callback_ptr\n",
      "    return _wrap_callback(callback, data, frames, time, status)\n",
      "           ^^^^^^^^^^^^^^^^^^^^^^^^^^^^^^^^^^^^^^^^^^^^^^^^^^^^\n",
      "  File \"C:\\Users\\user\\AppData\\Local\\Programs\\Python\\Python311\\Lib\\site-packages\\sounddevice.py\", line 2687, in _wrap_callback\n",
      "    callback(*args)\n",
      "TypeError: sound.<locals>.<lambda>() missing 1 required positional argument: 'status'\n"
     ]
    }
   ],
   "source": [
    "if __name__ == \"__main__\":\n",
    "    # loop through all audio files in the dataset\n",
    "    #for i in range(1, 25):  # assuming the dataset has 24 subjects\n",
    "        filename = f'G:/proctoring/AudioData/Yousef.wav'  \n",
    "        sound(filename)"
   ]
  },
  {
   "cell_type": "code",
   "execution_count": null,
   "metadata": {},
   "outputs": [],
   "source": [
    "# log AUDIO_CHEAT to dataframe\n",
    "df = pd.concat([df, pd.DataFrame({'Filename': os.path.basename(filename), 'Timestamp': [dt.datetime.now()], 'AUDIO_CHEAT': [AUDIO_CHEAT]})], ignore_index=True)"
   ]
  },
  {
   "cell_type": "code",
   "execution_count": null,
   "metadata": {},
   "outputs": [],
   "source": []
  }
 ],
 "metadata": {
  "kernelspec": {
   "display_name": "Python 3 (ipykernel)",
   "language": "python",
   "name": "python3"
  },
  "language_info": {
   "codemirror_mode": {
    "name": "ipython",
    "version": 3
   },
   "file_extension": ".py",
   "mimetype": "text/x-python",
   "name": "python",
   "nbconvert_exporter": "python",
   "pygments_lexer": "ipython3",
   "version": "3.11.5"
  }
 },
 "nbformat": 4,
 "nbformat_minor": 4
}
