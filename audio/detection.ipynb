{
 "cells": [
  {
   "cell_type": "code",
   "execution_count": 1,
   "metadata": {},
   "outputs": [
    {
     "name": "stdout",
     "output_type": "stream",
     "text": [
      "WARNING:tensorflow:From C:\\Users\\user\\AppData\\Local\\Programs\\Python\\Python311\\Lib\\site-packages\\keras\\src\\losses.py:2976: The name tf.losses.sparse_softmax_cross_entropy is deprecated. Please use tf.compat.v1.losses.sparse_softmax_cross_entropy instead.\n",
      "\n"
     ]
    }
   ],
   "source": [
    "import time\n",
    "import audio\n",
    "import head_pose\n",
    "import matplotlib.pyplot as plt\n",
    "import numpy as np"
   ]
  },
  {
   "cell_type": "code",
   "execution_count": 2,
   "metadata": {},
   "outputs": [],
   "source": [
    "PLOT_LENGTH = 200"
   ]
  },
  {
   "cell_type": "markdown",
   "metadata": {},
   "source": [
    "place holders "
   ]
  },
  {
   "cell_type": "code",
   "execution_count": 3,
   "metadata": {},
   "outputs": [],
   "source": [
    "GLOBAL_CHEAT = 0\n",
    "PERCENTAGE_CHEAT = 0\n",
    "CHEAT_THRESH = 0.6\n",
    "XDATA = list(range(200))\n",
    "YDATA = [0]*200"
   ]
  },
  {
   "cell_type": "code",
   "execution_count": 4,
   "metadata": {},
   "outputs": [],
   "source": [
    "def avg(current, previous):\n",
    "    if previous > 1:\n",
    "        return 0.65\n",
    "    if current == 0:\n",
    "        if previous < 0.01:\n",
    "            return 0.01\n",
    "        return previous / 1.01\n",
    "    if previous == 0:\n",
    "        return current\n",
    "    return 1 * previous + 0.1 * current"
   ]
  },
  {
   "cell_type": "code",
   "execution_count": 5,
   "metadata": {},
   "outputs": [],
   "source": [
    "def process():\n",
    "    global GLOBAL_CHEAT, PERCENTAGE_CHEAT, CHEAT_THRESH #head_pose.X_AXIS_CHEAT, head_pose.Y_AXIS_CHEAT, audio.AUDIO_CHEAT\n",
    "    # print(head_pose.X_AXIS_CHEAT, head_pose.Y_AXIS_CHEAT)\n",
    "    # print(\"entered proess()...\")\n",
    "    if GLOBAL_CHEAT == 0:\n",
    "        if head_pose.X_AXIS_CHEAT == 0:\n",
    "            if head_pose.Y_AXIS_CHEAT == 0:\n",
    "                if audio.AUDIO_CHEAT == 0:\n",
    "                    PERCENTAGE_CHEAT = avg(0, PERCENTAGE_CHEAT)\n",
    "                else:\n",
    "                    PERCENTAGE_CHEAT = avg(0.2, PERCENTAGE_CHEAT)\n",
    "            else:\n",
    "                if audio.AUDIO_CHEAT == 0:\n",
    "                    PERCENTAGE_CHEAT = avg(0.2, PERCENTAGE_CHEAT)\n",
    "                else:\n",
    "                    PERCENTAGE_CHEAT = avg(0.4, PERCENTAGE_CHEAT)\n",
    "        else:\n",
    "            if head_pose.Y_AXIS_CHEAT == 0:\n",
    "                if audio.AUDIO_CHEAT == 0:\n",
    "                    PERCENTAGE_CHEAT = avg(0.1, PERCENTAGE_CHEAT)\n",
    "                else:\n",
    "                    PERCENTAGE_CHEAT = avg(0.4, PERCENTAGE_CHEAT)\n",
    "            else:\n",
    "                if audio.AUDIO_CHEAT == 0:\n",
    "                    PERCENTAGE_CHEAT = avg(0.15, PERCENTAGE_CHEAT)\n",
    "                else:\n",
    "                    PERCENTAGE_CHEAT = avg(0.25, PERCENTAGE_CHEAT)\n",
    "    else:\n",
    "        if head_pose.X_AXIS_CHEAT == 0:\n",
    "            if head_pose.Y_AXIS_CHEAT == 0:\n",
    "                if audio.AUDIO_CHEAT == 0:\n",
    "                    PERCENTAGE_CHEAT = avg(0, PERCENTAGE_CHEAT)\n",
    "                else:\n",
    "                    PERCENTAGE_CHEAT = avg(0.55, PERCENTAGE_CHEAT)\n",
    "            else:\n",
    "                if audio.AUDIO_CHEAT == 0:\n",
    "                    PERCENTAGE_CHEAT = avg(0.55, PERCENTAGE_CHEAT)\n",
    "                else:\n",
    "                    PERCENTAGE_CHEAT = avg(0.85, PERCENTAGE_CHEAT)\n",
    "        else:\n",
    "            if head_pose.Y_AXIS_CHEAT == 0:\n",
    "                if audio.AUDIO_CHEAT == 0:\n",
    "                    PERCENTAGE_CHEAT = avg(0.6, PERCENTAGE_CHEAT)\n",
    "                else:\n",
    "                    PERCENTAGE_CHEAT = avg(0.85, PERCENTAGE_CHEAT)\n",
    "            else:\n",
    "                if audio.AUDIO_CHEAT == 0:\n",
    "                    PERCENTAGE_CHEAT = avg(0.5, PERCENTAGE_CHEAT)\n",
    "                else:\n",
    "                    PERCENTAGE_CHEAT = avg(0.85, PERCENTAGE_CHEAT)\n",
    "    if PERCENTAGE_CHEAT > CHEAT_THRESH:\n",
    "        GLOBAL_CHEAT = 1\n",
    "        print(\"CHEATING\")\n",
    "    else:\n",
    "        GLOBAL_CHEAT = 0\n",
    "    print(\"Cheat percent: \", PERCENTAGE_CHEAT, GLOBAL_CHEAT)"
   ]
  },
  {
   "cell_type": "code",
   "execution_count": 6,
   "metadata": {},
   "outputs": [],
   "source": [
    "def run_detection():\n",
    "    global XDATA,YDATA\n",
    "    plt.show()\n",
    "    axes = plt.gca()\n",
    "    axes.set_xlim(0, 200)\n",
    "    axes.set_ylim(0,1)\n",
    "    line, = axes.plot(XDATA, YDATA, 'r-')\n",
    "    plt.title(\"SUSpicious Behaviour Detection\")\n",
    "    plt.xlabel(\"Time\")\n",
    "    plt.ylabel(\"Cheat Probablity\")\n",
    "    i = 0\n",
    "    while True:\n",
    "        YDATA.pop(0)\n",
    "        YDATA.append(PERCENTAGE_CHEAT)\n",
    "        line.set_xdata(XDATA)\n",
    "        line.set_ydata(YDATA)\n",
    "        plt.draw()\n",
    "        plt.pause(1e-17)\n",
    "        time.sleep(1/5)\n",
    "        process()"
   ]
  },
  {
   "cell_type": "code",
   "execution_count": null,
   "metadata": {},
   "outputs": [],
   "source": []
  }
 ],
 "metadata": {
  "kernelspec": {
   "display_name": "Python 3 (ipykernel)",
   "language": "python",
   "name": "python3"
  },
  "language_info": {
   "codemirror_mode": {
    "name": "ipython",
    "version": 3
   },
   "file_extension": ".py",
   "mimetype": "text/x-python",
   "name": "python",
   "nbconvert_exporter": "python",
   "pygments_lexer": "ipython3",
   "version": "3.11.5"
  }
 },
 "nbformat": 4,
 "nbformat_minor": 4
}
